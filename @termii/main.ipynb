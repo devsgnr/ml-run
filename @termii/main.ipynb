{
 "cells": [
  {
   "cell_type": "code",
   "execution_count": null,
   "metadata": {},
   "outputs": [],
   "source": [
    "import requests\n",
    "\n",
    "send_url = 'https://api.ng.termii.com/api/sms/send'\n",
    "headers = {\n",
    "    'Content-Type': 'application/json'\n",
    "}\n",
    "payload = {\n",
    "    'api_key': '**',\n",
    "    'to': '234 --- --- ---',\n",
    "    'from': 'Talert',\n",
    "    'sms': 'Ripe Sorghum Detected',\n",
    "    'type': 'plain',\n",
    "    'channel': 'generic'\n",
    "}\n",
    "\n",
    "req = requests.request(\"POST\", url=send_url, headers=headers, json=payload)\n",
    "print(req.headers, req.ok)"
   ]
  }
 ],
 "metadata": {
  "kernelspec": {
   "display_name": "env",
   "language": "python",
   "name": "python3"
  },
  "language_info": {
   "codemirror_mode": {
    "name": "ipython",
    "version": 3
   },
   "file_extension": ".py",
   "mimetype": "text/x-python",
   "name": "python",
   "nbconvert_exporter": "python",
   "pygments_lexer": "ipython3",
   "version": "3.11.5"
  }
 },
 "nbformat": 4,
 "nbformat_minor": 2
}
